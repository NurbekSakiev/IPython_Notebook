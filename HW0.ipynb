{
 "cells": [
  {
   "cell_type": "code",
   "execution_count": 4,
   "metadata": {
    "collapsed": false
   },
   "outputs": [
    {
     "name": "stdout",
     "output_type": "stream",
     "text": [
      "IPy version  4.0.0\n",
      "NumPy version 1.10.1\n",
      "SciPy version 0.16.0\n",
      "Pandas version 0.17.0\n"
     ]
    }
   ],
   "source": [
    "import IPython\n",
    "print \"IPy version %6.6s\" % IPython.__version__\n",
    "\n",
    "import numpy as np\n",
    "print \"NumPy version %6.6s\" % np.__version__\n",
    "\n",
    "import scipy as sp\n",
    "print \"SciPy version %6.6s\" %sp.__version__\n",
    "\n",
    "import pandas as pd\n",
    "print \"Pandas version %6.6s\" % pd.__version__\n",
    "\n",
    "import matplotlib\n",
    "import sklearn\n",
    "import requests\n",
    "import networkx as nx\n",
    "import BeautifulSoup\n",
    "import mrjob\n",
    "import pattern"
   ]
  },
  {
   "cell_type": "code",
   "execution_count": 8,
   "metadata": {
    "collapsed": false
   },
   "outputs": [
    {
     "data": {
      "text/plain": [
       "<matplotlib.text.Text at 0x108a18a50>"
      ]
     },
     "execution_count": 8,
     "metadata": {},
     "output_type": "execute_result"
    },
    {
     "data": {
      "image/png": "[encoded data removed]",
      "text/plain": [
       "<matplotlib.figure.Figure at 0x108001e90>"
      ]
     },
     "metadata": {},
     "output_type": "display_data"
    }
   ],
   "source": [
    "%matplotlib inline\n",
    "import matplotlib.pyplot as plt\n",
    "x = np.linspace(0,10,30)\n",
    "y = np.sin(x)\n",
    "z = y + np.random.normal(size=30) * .2\n",
    "plt.plot(x,y,'ro-', label = \"A sine wave\")\n",
    "plt.plot(x,z, 'b-', label = 'Noisy sine')\n",
    "plt.legend(loc = 'lower right')\n",
    "plt.xlabel(\"X axis\")\n",
    "plt.ylabel(\"Y axis\")"
   ]
  },
  {
   "cell_type": "code",
   "execution_count": 9,
   "metadata": {
    "collapsed": false
   },
   "outputs": [
    {
     "name": "stdout",
     "output_type": "stream",
     "text": [
      "[[ 0.33839372  0.01825701  0.01623195  0.53425883]\n",
      " [ 0.12868617  0.91539884  0.88054878  0.02721681]\n",
      " [ 0.15863001  0.26664496  0.32432452  0.68009457]]\n",
      "\n"
     ]
    }
   ],
   "source": [
    "x = np.random.random((3,4))\n",
    "print x\n",
    "print"
   ]
  },
  {
   "cell_type": "code",
   "execution_count": 10,
   "metadata": {
    "collapsed": false
   },
   "outputs": [
    {
     "name": "stdout",
     "output_type": "stream",
     "text": [
      "[[ 1.33839372  1.01825701  1.01623195  1.53425883]\n",
      " [ 1.12868617  1.91539884  1.88054878  1.02721681]\n",
      " [ 1.15863001  1.26664496  1.32432452  1.68009457]]\n"
     ]
    }
   ],
   "source": [
    "x = x+1\n",
    "print x"
   ]
  },
  {
   "cell_type": "code",
   "execution_count": 37,
   "metadata": {
    "collapsed": false
   },
   "outputs": [
    {
     "name": "stdout",
     "output_type": "stream",
     "text": [
      "Max is   1.9605152683\n",
      "Min is   1.0886727373\n",
      "Mean is  1.46237300069\n",
      "[ 1.76083466  1.96051527  1.77622167]\n"
     ]
    }
   ],
   "source": [
    "x = np.random.random((3,4))\n",
    "x= x+1\n",
    "#your code here\n",
    "print \"Max is  \", x.max()\n",
    "print \"Min is  \", x.min()\n",
    "print \"Mean is \", x.mean()\n",
    "print x.max(axis=1)"
   ]
  },
  {
   "cell_type": "code",
   "execution_count": 30,
   "metadata": {
    "collapsed": false
   },
   "outputs": [
    {
     "name": "stdout",
     "output_type": "stream",
     "text": [
      "number of heads:  249\n"
     ]
    }
   ],
   "source": [
    "x = np.random.binomial(500,.5)\n",
    "print \"number of heads: \",x"
   ]
  },
  {
   "cell_type": "code",
   "execution_count": 38,
   "metadata": {
    "collapsed": false
   },
   "outputs": [
    {
     "data": {
      "image/png": "[encoded data removed]",
      "text/plain": [
       "<matplotlib.figure.Figure at 0x108e75ad0>"
      ]
     },
     "metadata": {},
     "output_type": "display_data"
    }
   ],
   "source": [
    "heads = np.random.binomial(500,.5,size = 500)\n",
    "histogram = plt.hist(heads, bins=10)"
   ]
  },
  {
   "cell_type": "code",
   "execution_count": 39,
   "metadata": {
    "collapsed": false
   },
   "outputs": [
    {
     "data": {
      "text/plain": [
       "(500,)"
      ]
     },
     "execution_count": 39,
     "metadata": {},
     "output_type": "execute_result"
    }
   ],
   "source": [
    "heads.shape"
   ]
  },
  {
   "cell_type": "code",
   "execution_count": 22,
   "metadata": {
    "collapsed": false
   },
   "outputs": [
    {
     "name": "stdout",
     "output_type": "stream",
     "text": [
      "[0 2 1]\n",
      "[ True False  True] bad\n",
      "2 sum\n",
      "[2 2 2]\n",
      "[False False  True] bad\n",
      "1 sum\n",
      "[2 2 1]\n",
      "[False False  True] bad\n",
      "1 sum\n",
      "[2 2 0]\n",
      "[False False False] bad\n",
      "[2 2 0]\n"
     ]
    }
   ],
   "source": [
    "def simulate_prizedoor(nsim):\n",
    "    return np.random.randint(0,3,(nsim))\n",
    "#print simulate_prizedoor(3)\n",
    "\n",
    "def simulate_guess(nsim):\n",
    "    np.zeros(nsim,dtype = np.int)\n",
    "\n",
    "def goat_door(prizedoors, guesses):\n",
    "    result = np.random.randint(0,3, prizedoors.size)\n",
    "    while True:\n",
    "        print result\n",
    "        bad = (result == prizedoors) | (result == guesses)\n",
    "        print bad,'bad'\n",
    "        if not bad.any():\n",
    "            return result\n",
    "        result[bad] = np.random.randint(0,3, bad.sum())\n",
    "print goat_door(np.array([0, 1, 2]), np.array([1, 1, 1]))"
   ]
  }
 ],
 "metadata": {
  "kernelspec": {
   "display_name": "Python 2",
   "language": "python",
   "name": "python2"
  },
  "language_info": {
   "codemirror_mode": {
    "name": "ipython",
    "version": 2
   },
   "file_extension": ".py",
   "mimetype": "text/x-python",
   "name": "python",
   "nbconvert_exporter": "python",
   "pygments_lexer": "ipython2",
   "version": "2.7.10"
  }
 },
 "nbformat": 4,
 "nbformat_minor": 0
}
